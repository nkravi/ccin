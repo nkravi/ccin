{
 "metadata": {
  "name": ""
 },
 "nbformat": 3,
 "nbformat_minor": 0,
 "worksheets": [
  {
   "cells": [
    {
     "cell_type": "code",
     "collapsed": false,
     "input": [
      "allunique = [1,2,3,4,5]\n",
      "notunique = [1,2,2,5,5]\n",
      "def is_all_unique(_input):\n",
      "    _hash = dict()\n",
      "    for i in range(0,len(_input)):\n",
      "        if _input[i] in _hash:\n",
      "            return False\n",
      "        _hash[_input[i]] = _input[i]\n",
      "    return True\n",
      "\n",
      "print is_all_unique(allunique)\n",
      "print is_all_unique(notunique)"
     ],
     "language": "python",
     "metadata": {},
     "outputs": [
      {
       "output_type": "stream",
       "stream": "stdout",
       "text": [
        "True\n",
        "False\n"
       ]
      }
     ],
     "prompt_number": 5
    },
    {
     "cell_type": "code",
     "collapsed": false,
     "input": [
      "def is_all_unique2(_input):\n",
      "    i = 0;\n",
      "    j = 0\n",
      "    for i in range(0,len(_input)):\n",
      "        for j in range(0,len(_input)):\n",
      "            if i !=j and _input[i] == _input[j]:\n",
      "                return False\n",
      "    return True\n",
      "    \n",
      "\n",
      "print is_all_unique2(allunique)\n",
      "print is_all_unique2(notunique)"
     ],
     "language": "python",
     "metadata": {},
     "outputs": [
      {
       "output_type": "stream",
       "stream": "stdout",
       "text": [
        "True\n",
        "False\n"
       ]
      }
     ],
     "prompt_number": 6
    },
    {
     "cell_type": "code",
     "collapsed": false,
     "input": [
      "def is_permutation(x,y):\n",
      "    if len(x) != len(y):\n",
      "        return False\n",
      "    else:\n",
      "        return sorted(x) == sorted(y)\n",
      "\n",
      "print is_permutation(\"dog\",\"god\")\n",
      "print is_permutation(\"fog\",\"dog\")"
     ],
     "language": "python",
     "metadata": {},
     "outputs": [
      {
       "output_type": "stream",
       "stream": "stdout",
       "text": [
        "True\n",
        "False\n"
       ]
      }
     ],
     "prompt_number": 1
    },
    {
     "cell_type": "code",
     "collapsed": false,
     "input": [
      "from collections import Counter\n",
      "def is_permutation2(x,y):       \n",
      "    if len(x) != len(y):\n",
      "        return False\n",
      "    else:\n",
      "        cx = Counter(x)\n",
      "        cy = Counter(y)\n",
      "        for c in cx:\n",
      "            if c not in cy or cy[c] != cx[c]:\n",
      "                return False\n",
      "        return True\n",
      "    \n",
      "print is_permutation2(\"dog\",\"god\")\n",
      "print is_permutation2(\"fog\",\"dog\")"
     ],
     "language": "python",
     "metadata": {},
     "outputs": [
      {
       "output_type": "stream",
       "stream": "stdout",
       "text": [
        "True\n",
        "False\n"
       ]
      }
     ],
     "prompt_number": 3
    },
    {
     "cell_type": "code",
     "collapsed": false,
     "input": [
      "from collections import Counter\n",
      "\n",
      "def is_palidrome_permutation(x):\n",
      "    x = x.replace(\" \",\"\").lower() #remove spaces and convert to lower\n",
      "    lenx =\"even\" if len(x)%2 == 0 else \"odd\"\n",
      "    fstodd = True\n",
      "    cx = Counter(x)\n",
      "    for c in cx:\n",
      "        if cx[c]%2 == 0:\n",
      "            continuex)\n",
      "        elif lenx == \"even\" and cx[c]%2 !=0:\n",
      "            return False\n",
      "        elif lenx == \"odd\" and cx[c] == 1:\n",
      "            if fstodd:\n",
      "                fstodd = False\n",
      "            else:\n",
      "                return False\n",
      "        else:\n",
      "            return False\n",
      "    return True\n",
      "                \n",
      "        \n",
      "print is_palidrome_permutation(\"church\")\n",
      "print is_palidrome_permutation(\"Tact Coa \")"
     ],
     "language": "python",
     "metadata": {},
     "outputs": [
      {
       "output_type": "stream",
       "stream": "stdout",
       "text": [
        "False\n",
        "True\n"
       ]
      }
     ],
     "prompt_number": 19
    },
    {
     "cell_type": "code",
     "collapsed": false,
     "input": [
      "\n",
      "def is_one_away(x,y):\n",
      "    if abs(len(x) - len(y)) > 1:\n",
      "        return False\n",
      "    "
     ],
     "language": "python",
     "metadata": {},
     "outputs": []
    }
   ],
   "metadata": {}
  }
 ]
}