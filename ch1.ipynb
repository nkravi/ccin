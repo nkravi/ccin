{
 "metadata": {
  "name": ""
 },
 "nbformat": 3,
 "nbformat_minor": 0,
 "worksheets": [
  {
   "cells": [
    {
     "cell_type": "code",
     "collapsed": false,
     "input": [
      "allunique = [1,2,3,4,5]\n",
      "notunique = [1,2,2,5,5]\n",
      "def is_all_unique(_input):\n",
      "    _hash = dict()\n",
      "    for i in range(0,len(_input)):\n",
      "        if _input[i] in _hash:\n",
      "            return False\n",
      "        _hash[_input[i]] = _input[i]\n",
      "    return True\n",
      "\n",
      "print is_all_unique(allunique)\n",
      "print is_all_unique(notunique)"
     ],
     "language": "python",
     "metadata": {},
     "outputs": [
      {
       "output_type": "stream",
       "stream": "stdout",
       "text": [
        "True\n",
        "False\n"
       ]
      }
     ],
     "prompt_number": 5
    },
    {
     "cell_type": "code",
     "collapsed": false,
     "input": [
      "def is_all_unique2(_input):\n",
      "    i = 0;\n",
      "    j = 0\n",
      "    for i in range(0,len(_input)):\n",
      "        for j in range(0,len(_input)):\n",
      "            if i !=j and _input[i] == _input[j]:\n",
      "                return False\n",
      "    return True\n",
      "    \n",
      "\n",
      "print is_all_unique2(allunique)\n",
      "print is_all_unique2(notunique)"
     ],
     "language": "python",
     "metadata": {},
     "outputs": [
      {
       "output_type": "stream",
       "stream": "stdout",
       "text": [
        "True\n",
        "False\n"
       ]
      }
     ],
     "prompt_number": 6
    },
    {
     "cell_type": "code",
     "collapsed": false,
     "input": [
      "def is_x_in_y(x,y):\n",
      "    if len(x) > len(y):\n",
      "        return False\n",
      "    j = 0\n",
      "    for i in range(0,len(y)):\n",
      "        if y[i] == x[j]:\n",
      "            j = j+1\n",
      "        else:\n",
      "            j = 0\n",
      "        if j == len(x): #match\n",
      "            return True\n",
      "    return False\n",
      "\n",
      "print is_x_in_y(\"ch\",\"chrch\")\n",
      "print is_x_in_y(\"ch\",\"rch\")\n",
      "print is_x_in_y(\"cx\",\"chrch\")\n",
      "        "
     ],
     "language": "python",
     "metadata": {},
     "outputs": [
      {
       "output_type": "stream",
       "stream": "stdout",
       "text": [
        "True\n",
        "True\n",
        "False\n"
       ]
      }
     ],
     "prompt_number": 16
    },
    {
     "cell_type": "code",
     "collapsed": false,
     "input": [],
     "language": "python",
     "metadata": {},
     "outputs": []
    }
   ],
   "metadata": {}
  }
 ]
}